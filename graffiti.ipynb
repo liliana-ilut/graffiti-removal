{
 "cells": [
  {
   "cell_type": "code",
   "execution_count": null,
   "metadata": {},
   "outputs": [],
   "source": [
    "# Dependencies\n",
    "import matplotlib.pyplot as plt\n",
    "import requests\n",
    "from scipy import stats\n",
    "import pandas as pd\n",
    "import json\n",
    "import csv\n",
    "import requests\n",
    "from pprint import pprint as pprint\n",
    "from IPython.display import display as display\n",
    "# from config import api_key"
   ]
  },
  {
   "cell_type": "code",
   "execution_count": null,
   "metadata": {},
   "outputs": [],
   "source": [
    "# The same code as bellow . bellow is step by step\n",
    "# Performing a GET Request and saving the \n",
    "# # API's response within a variable\n",
    "# url = \"https://data.cityofchicago.org/resource/hec5-y4x5.json?\"\n",
    "# response = requests.get(url)\n",
    "# response_json = response.json()\n",
    "# # pprint(json.dumps(response_json, indent=4, sort_keys=True))"
   ]
  },
  {
   "cell_type": "code",
   "execution_count": null,
   "metadata": {},
   "outputs": [],
   "source": [
    "# URL for GET requests data\n",
    "url = \"https://data.cityofchicago.org/resource/hec5-y4x5.json\""
   ]
  },
  {
   "cell_type": "code",
   "execution_count": null,
   "metadata": {},
   "outputs": [],
   "source": [
    "# Pretty Print the output of the JSON\n",
    "response = requests.get(url).json()\n",
    "\n",
    "data= json.dumps(response, indent= 4)\n",
    "print(data)"
   ]
  },
  {
   "cell_type": "code",
   "execution_count": null,
   "metadata": {},
   "outputs": [],
   "source": [
    "# to convert json to csv\n",
    "\n",
    "# # import pandas as pd\n",
    "# # r = requests.get(url)\n",
    "# # pprint(r.text)\n",
    "# df = pd.read(r)\n",
    "# df.to_csv(\"output2.csv\")"
   ]
  }
 ],
 "metadata": {
  "kernelspec": {
   "display_name": "Python 3",
   "language": "python",
   "name": "python3"
  },
  "language_info": {
   "codemirror_mode": {
    "name": "ipython",
    "version": 3
   },
   "file_extension": ".py",
   "mimetype": "text/x-python",
   "name": "python",
   "nbconvert_exporter": "python",
   "pygments_lexer": "ipython3",
   "version": "3.7.6"
  }
 },
 "nbformat": 4,
 "nbformat_minor": 4
}
